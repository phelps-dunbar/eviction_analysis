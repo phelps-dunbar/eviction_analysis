{
 "cells": [
  {
   "cell_type": "markdown",
   "id": "c257410a",
   "metadata": {},
   "source": [
    "# This script is for the data story to be told to Bill 01/31"
   ]
  },
  {
   "cell_type": "markdown",
   "id": "a92da20e",
   "metadata": {},
   "source": [
    "### The conclusion is that it is hard for us to generate a overall flat fee for eviction analysis\n",
    "### Due to the amount of variability inside different categories of data"
   ]
  },
  {
   "cell_type": "code",
   "execution_count": null,
   "id": "58a810a8",
   "metadata": {},
   "outputs": [],
   "source": [
    "# read in the data"
   ]
  }
 ],
 "metadata": {
  "kernelspec": {
   "display_name": "Python 3 (ipykernel)",
   "language": "python",
   "name": "python3"
  },
  "language_info": {
   "codemirror_mode": {
    "name": "ipython",
    "version": 3
   },
   "file_extension": ".py",
   "mimetype": "text/x-python",
   "name": "python",
   "nbconvert_exporter": "python",
   "pygments_lexer": "ipython3",
   "version": "3.9.13"
  }
 },
 "nbformat": 4,
 "nbformat_minor": 5
}
